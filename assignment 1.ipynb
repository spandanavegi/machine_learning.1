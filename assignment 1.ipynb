{
 "cells": [
  {
   "cell_type": "code",
   "execution_count": 1,
   "id": "efe15dac",
   "metadata": {},
   "outputs": [
    {
     "name": "stdout",
     "output_type": "stream",
     "text": [
      "ages = [19, 22, 19, 24, 20, 25, 26, 24, 25, 24]\n",
      "sorted ages = [19, 19, 20, 22, 24, 24, 24, 25, 25, 26]\n",
      "maximum= 26\n",
      "minimum= 19\n",
      "[19, 19, 20, 22, 24, 24, 24, 25, 25, 26, 26]\n",
      "[19, 19, 20, 22, 24, 24, 24, 25, 25, 26, 26, 19]\n",
      "median= 24.0\n",
      "average= 22.75\n",
      "range= 7\n"
     ]
    }
   ],
   "source": [
    "import statistics\n",
    "ages = [19, 22, 19, 24, 20, 25, 26, 24, 25, 24]\n",
    "print( \"ages =\",ages)\n",
    "ages.sort()\n",
    "print(\"sorted ages =\",ages)\n",
    "maximum=max(ages)\n",
    "print(\"maximum=\",maximum)\n",
    "minimum=min(ages)\n",
    "print(\"minimum=\",minimum)\n",
    "ages.append(maximum)\n",
    "print(ages)\n",
    "ages.append(minimum)\n",
    "print(ages)\n",
    "median=statistics.median(ages)\n",
    "print(\"median=\",median)\n",
    "average=statistics.mean(ages)\n",
    "print(\"average=\",average)\n",
    "range=maximum-minimum\n",
    "print(\"range=\",range)"
   ]
  },
  {
   "cell_type": "code",
   "execution_count": 2,
   "id": "dc245e0f",
   "metadata": {},
   "outputs": [
    {
     "name": "stdout",
     "output_type": "stream",
     "text": [
      "{}\n",
      "{'name': 'doggy', 'color': 'black', 'breed': 'german', 'legs': 2, 'age': 5}\n",
      "{'first_name': 'spandana', 'last_name': 'vegi', 'gender': 'female', 'age': 21, 'marital status': 'single', 'skills': ['JavaScript', 'r', 'clay art', 'Python'], 'country': 'USA', 'city': 'kansas', 'address': 'leawood'}\n",
      "length : 9\n",
      "['JavaScript', 'r', 'clay art', 'Python']\n",
      "<class 'list'>\n",
      "{'first_name': 'spandana', 'last_name': 'vegi', 'gender': 'female', 'age': 21, 'marital status': 'single', 'skills': ['JavaScript', 'r', 'clay art', 'Python', 'reading'], 'country': 'USA', 'city': 'kansas', 'address': 'leawood'}\n",
      "student_keys= dict_keys(['first_name', 'last_name', 'gender', 'age', 'marital status', 'skills', 'country', 'city', 'address'])\n",
      "student_values= dict_values(['spandana', 'vegi', 'female', 21, 'single', ['JavaScript', 'r', 'clay art', 'Python', 'reading'], 'USA', 'kansas', 'leawood'])\n"
     ]
    }
   ],
   "source": [
    "dog={}\n",
    "print(dog)\n",
    "dog={'name':'doggy','color':'black','breed':'german','legs':2,'age':5}\n",
    "print(dog)\n",
    "student={'first_name':'spandana','last_name':'vegi', 'gender':'female', 'age':21,'marital status':'single',\n",
    "'skills':['JavaScript', 'r','clay art','Python'],'country':'USA', 'city':'kansas', 'address':'leawood'}\n",
    "print(student)\n",
    "print(\"length :\",len(student))\n",
    "print(student['skills'])\n",
    "print(type(student['skills']))\n",
    "student['skills'].append('reading')\n",
    "print(student)\n",
    "student_keys=student.keys()\n",
    "print(\"student_keys=\", student_keys)\n",
    "student_values=student.values()\n",
    "print(\"student_values=\",student_values)"
   ]
  },
  {
   "cell_type": "code",
   "execution_count": 2,
   "id": "30c4c125",
   "metadata": {},
   "outputs": [
    {
     "name": "stdout",
     "output_type": "stream",
     "text": [
      "brothers = ('kowshik', 'kumar', 'mani')\n",
      "sisters= ('alekhya', 'shaithi', 'mounika')\n",
      "sibilings= ('kowshik', 'kumar', 'mani', 'alekhya', 'shaithi', 'mounika')\n",
      "length= 6\n",
      "lst_sibilings= ('kowshik', 'kumar', 'mani', 'alekhya', 'shaithi', 'mounika')\n",
      "family_members= ('kowshik', 'kumar', 'mani', 'alekhya', 'shaithi', 'mounika', 'mother', 'father')\n"
     ]
    }
   ],
   "source": [
    "brothers=('kowshik','kumar','mani')\n",
    "print(\"brothers =\",brothers)\n",
    "sisters=('alekhya','shaithi','mounika')\n",
    "print(\"sisters=\",sisters)\n",
    "sibilings = brothers+sisters\n",
    "print(\"sibilings=\",sibilings)\n",
    "length=len(sibilings)\n",
    "print(\"length=\",length)\n",
    "lst_sibilings = tuple(sibilings)\n",
    "print(\"lst_sibilings=\",lst_sibilings)\n",
    "parents=('mother','father')\n",
    "family_members=lst_sibilings + parents\n",
    "print(\"family_members=\",family_members)"
   ]
  },
  {
   "cell_type": "code",
   "execution_count": 4,
   "id": "8e6c08ae",
   "metadata": {
    "scrolled": true
   },
   "outputs": [
    {
     "name": "stdout",
     "output_type": "stream",
     "text": [
      "length of it_companies= 7\n",
      "{'Apple', 'IBM', 'Google', 'Amazon', 'Microsoft', 'Facebook', 'Oracle', 'Twitter'}\n",
      "{'Google', 'Microsoft', 'Twitter', 'Amazon', 'Facebook', 'goldflex', 'IBM', 'cresn', 'Oracle', 'matriczs', 'Apple'}\n",
      "{'Google', 'Microsoft', 'Twitter', 'Facebook', 'goldflex', 'IBM', 'cresn', 'Oracle', 'matriczs', 'Apple'}\n",
      "Difference between Remove() and Discard(): \n",
      "Discard() method is different from the remove() method, because the remove() method will throw an error if the specified item is not present in list, whereasthe discard() method will not throw any error if item doesn't exist in list\n",
      "join {19, 20, 22, 24, 25, 26, 27, 28}\n",
      "intersection {19, 20, 22, 24, 25, 26}\n",
      "subset= True\n",
      "disjoint_sets= False\n",
      "joina&b {19, 20, 22, 24, 25, 26, 27, 28}\n",
      "joinb&a {19, 20, 22, 24, 25, 26, 27, 28}\n",
      "symmetric_difference {27, 28}\n",
      "age of list is  8\n",
      "age_set {19, 22, 24, 25, 26}\n",
      "length_set 5\n",
      "false\n"
     ]
    }
   ],
   "source": [
    "it_companies = {'Facebook', 'Google', 'Microsoft', 'Apple', 'IBM', 'Oracle', 'Amazon'}\n",
    "A = {19, 22, 24, 20, 25, 26}\n",
    "B = {19, 22, 20, 25, 26, 24, 28, 27}\n",
    "age = [22, 19, 24, 25, 26, 24, 25, 24]\n",
    "print(\"length of it_companies=\",len(it_companies))\n",
    "it_companies.add('Twitter')\n",
    "print(it_companies)\n",
    "it_companies.update(['cresn','matriczs','goldflex'])\n",
    "print(it_companies)\n",
    "it_companies.remove('Amazon')\n",
    "print(it_companies)\n",
    "print(\"Difference between Remove() and Discard(): \\nDiscard() method is different from the remove() method, because the remove() method will throw an error if the specified item is not present in list, whereasthe discard() method will not throw any error if item doesn't exist in list\");\n",
    "join=A.union(B)\n",
    "print(\"join\",join)\n",
    "intersection=A.intersection(B)\n",
    "print(\"intersection\",intersection)\n",
    "print(\"subset=\",A.issubset(B))\n",
    "print(\"disjoint_sets=\",A.isdisjoint(B))\n",
    "join1=A.union(B)\n",
    "print(\"joina&b\",join1)\n",
    "join2=B.union(A)\n",
    "print(\"joinb&a\",join2)\n",
    "symmetric_difference=A.symmetric_difference(B)\n",
    "print(\"symmetric_difference\",symmetric_difference)\n",
    "del(A)\n",
    "del(B)\n",
    "length_age=len(age)\n",
    "print(\"age of list is \",length_age)\n",
    "age_set=set(age)\n",
    "print(\"age_set\",age_set)\n",
    "length_set=len(age_set)\n",
    "print(\"length_set\",length_set)\n",
    "if length_age==length_set :\n",
    "    {\n",
    "        print(\"true\")\n",
    "    }\n",
    "else:\n",
    "    print(\"false\")\n",
    "\n",
    "\n",
    "#value= length_age==(length_set):true:false\n",
    "#print(value)"
   ]
  },
  {
   "cell_type": "code",
   "execution_count": 5,
   "id": "3f06599c",
   "metadata": {},
   "outputs": [
    {
     "name": "stdout",
     "output_type": "stream",
     "text": [
      "area = 2826.0\n",
      "circumference= 188.88\n",
      "Enter your value of radius: 5\n",
      "radius = 5\n",
      "area= 78.5\n"
     ]
    }
   ],
   "source": [
    "r=30\n",
    "_area_of_circle_ = 3.14*r*r\n",
    "print(\"area =\",_area_of_circle_)\n",
    "_circum_of_circle_ =2*3.148*r\n",
    "print(\"circumference=\", _circum_of_circle_);\n",
    "radius = int(input(\"Enter your value of radius: \"))\n",
    "print(\"radius =\",radius)\n",
    "area=3.14*radius*radius\n",
    "print(\"area=\",area)"
   ]
  },
  {
   "cell_type": "code",
   "execution_count": 6,
   "id": "02ddabad",
   "metadata": {},
   "outputs": [
    {
     "name": "stdout",
     "output_type": "stream",
     "text": [
      "['am', 'a', 'teacher', 'I', 'love', 'to', 'inspire', 'and', 'teach', 'people']\n",
      "10\n"
     ]
    }
   ],
   "source": [
    "\n",
    "\n",
    "\n",
    "string =\"I am a teacher and I love to inspire and teach people\"\n",
    "\n",
    "wordlist = string.split(' ')\n",
    "word_count=0\n",
    "for word in wordlist:\n",
    "    if wordlist.count(word) > 1:\n",
    "        wordlist.remove(word)\n",
    "        \n",
    "    \n",
    "    \n",
    "    \n",
    "print(wordlist)\n",
    "print(len(wordlist))\n",
    "#print(wordlist.count)\n"
   ]
  },
  {
   "cell_type": "code",
   "execution_count": 7,
   "id": "9bf966b5",
   "metadata": {},
   "outputs": [
    {
     "name": "stdout",
     "output_type": "stream",
     "text": [
      "Name \t Age \tCountry City\n",
      "Asabench 250 \tFinland Helsinki\n"
     ]
    }
   ],
   "source": [
    "#Question 7\n",
    "text = \"Name \\t Age \\tCountry City\\nAsabench 250 \\tFinland Helsinki\"\n",
    "print(text)\n"
   ]
  },
  {
   "cell_type": "code",
   "execution_count": 8,
   "id": "f972f615",
   "metadata": {},
   "outputs": [
    {
     "name": "stdout",
     "output_type": "stream",
     "text": [
      "The area of a circle with radius 10 is 314 m\n"
     ]
    }
   ],
   "source": [
    "#Question 8\n",
    "radius = 10\n",
    "area = 3.14 * radius * radius\n",
    "print(\"The area of a circle with radius\",radius,\"is %.0f\" %area, \"m\")"
   ]
  },
  {
   "cell_type": "code",
   "execution_count": 2,
   "id": "6a67b344",
   "metadata": {
    "scrolled": true
   },
   "outputs": [
    {
     "name": "stdout",
     "output_type": "stream",
     "text": [
      "Enter number of students: 4\n",
      "140\n",
      "145\n",
      "150\n",
      "155\n",
      "[140, 145, 150, 155]\n",
      "[63.50288, 65.77083999999999, 68.0388, 70.30676]\n"
     ]
    }
   ],
   "source": [
    "#Question 9\n",
    "\n",
    "Students_Lst_Lbs=[]\n",
    "prmt = int(input(\"Enter number of students: \"))\n",
    "Students_Lst_Kgs=[]\n",
    "\n",
    "for i in range(0,prmt):\n",
    "    Students_Lst_Lbs.append(int(input()))\n",
    "    Students_Lst_Kgs.append(Students_Lst_Lbs[i]*0.453592)\n",
    "print(Students_Lst_Lbs)    \n",
    "print(Students_Lst_Kgs)\n",
    "\n"
   ]
  },
  {
   "cell_type": "code",
   "execution_count": 3,
   "id": "979c4ded",
   "metadata": {},
   "outputs": [
    {
     "name": "stdout",
     "output_type": "stream",
     "text": [
      "Dataset with total 8 points: \n",
      " [[ 1  0]\n",
      " [ 2  0]\n",
      " [ 3  0]\n",
      " [ 6  0]\n",
      " [ 6  0]\n",
      " [ 7  0]\n",
      " [10  0]\n",
      " [11  0]] \n",
      " Size:  8\n",
      "\n",
      "Class label for the datasetX Y: [0 0 1 1 1 0 0 0]\n",
      "\n",
      "Training Data X: \n",
      " [[ 2  0]\n",
      " [11  0]\n",
      " [ 6  0]\n",
      " [ 1  0]\n",
      " [ 7  0]\n",
      " [ 6  0]]\n",
      "\n",
      "Training Data label Y: [0 0 1 0 0 1]\n",
      "\n",
      "Predicted Classs labels for testing data Y: [0 0]\n",
      "\n",
      "Confusion Matrix\n",
      " [[1 0]\n",
      " [1 0]]\n",
      "\n",
      "Accuracy :  1\n",
      "Sensitivity :  0.0\n",
      "Specificity :  1.0\n"
     ]
    }
   ],
   "source": [
    "import numpy as nm\n",
    "import pandas as pd\n",
    "from sklearn.model_selection import train_test_split\n",
    "from sklearn.preprocessing import StandardScaler\n",
    "from sklearn.neighbors import KNeighborsClassifier\n",
    "from sklearn.metrics import confusion_matrix\n",
    "X= nm.array([[1,0],[2,0],[3,0],[6,0],[6,0],[7,0],[10,0],[11,0]])\n",
    "print(\"Dataset with 8 points: \\n\",X,\"\\n Size: \",len(X))\n",
    "y = nm.array([0,0,1,1,1,0,0,0])\n",
    "print(\"\\nClass label for datasetX Y:\",y)\n",
    "x_train, x_test, y_train, y_test= train_test_split(X, y, test_size=0.25, random_state=0)  \n",
    "print(\"\\nTrain Data X: \\n\", x_train)\n",
    "print(\"\\nTrain Data label Y:\", y_train)\n",
    "\n",
    "stand_scalar= StandardScaler()\n",
    "x_train= stand_scalar.fit_transform(x_train)\n",
    "x_test= stand_scalar.transform(x_test)\n",
    "\n",
    "classifier= KNeighborsClassifier(n_neighbors=3)\n",
    "\n",
    "classifier.fit(x_train, y_train)\n",
    "\n",
    "y_pred= classifier.predict(x_test)\n",
    "print('\\nPredicted Classs labels for testing data Y:',y_pred)\n",
    "\n",
    "confusion_matrix_result = confusion_matrix(y_test, y_pred)\n",
    "print(\"\\nConfusion Matrix\\n\",confusion_matrix_result)\n",
    "\n",
    "total_value = sum(sum(confusion_matrix_result))\n",
    "\n",
    "accuracy=(confusion_matrix_result[0,0]+confusion_matrix_result[1,1])\n",
    "print ('\\nAccuracy : ', accuracy)\n",
    "\n",
    "sensitivity = confusion_matrix_result[1,1]/(confusion_matrix_result[1,0]+confusion_matrix_result[1,1])\n",
    "print(\"Sensitivity : \", sensitivity )\n",
    "                                            \n",
    "specificity = confusion_matrix_result[0,0]/(confusion_matrix_result[0,0]+confusion_matrix_result[0,1])\n",
    "\n",
    "\n",
    "print(\"Specificity : \", specificity)\n",
    "                                            \n",
    "                                            "
   ]
  },
  {
   "cell_type": "code",
   "execution_count": null,
   "id": "ea67f2ea",
   "metadata": {},
   "outputs": [],
   "source": []
  }
 ],
 "metadata": {
  "kernelspec": {
   "display_name": "Python 3 (ipykernel)",
   "language": "python",
   "name": "python3"
  },
  "language_info": {
   "codemirror_mode": {
    "name": "ipython",
    "version": 3
   },
   "file_extension": ".py",
   "mimetype": "text/x-python",
   "name": "python",
   "nbconvert_exporter": "python",
   "pygments_lexer": "ipython3",
   "version": "3.10.2"
  }
 },
 "nbformat": 4,
 "nbformat_minor": 5
}
